{
  "nbformat": 4,
  "nbformat_minor": 0,
  "metadata": {
    "colab": {
      "provenance": [],
      "toc_visible": true
    },
    "kernelspec": {
      "name": "python3",
      "display_name": "Python 3"
    },
    "language_info": {
      "name": "python"
    }
  },
  "cells": [
    {
      "cell_type": "markdown",
      "source": [
        "**Arewa Data Science Academy**\n",
        "\n",
        "Deep Learning Cohort2.0\n",
        "\n",
        "Name: Abdullahi Sani Atiku\n",
        "\n",
        "Email: abdullahisaniatiku@gmail.com\n",
        "\n",
        "Title: Week 1 Solution\n",
        "\n"
      ],
      "metadata": {
        "id": "5mPiNIylvoXX"
      }
    },
    {
      "cell_type": "markdown",
      "source": [
        "Exercises Solution"
      ],
      "metadata": {
        "id": "0eqLDmKJvmAi"
      }
    },
    {
      "cell_type": "code",
      "source": [
        "# Exercise 2 - Solution\n",
        "\n",
        "# Import torch\n",
        "import torch\n",
        "\n",
        "# Create random tensor\n",
        "tensor1 = torch.rand(7, 7)"
      ],
      "metadata": {
        "id": "Omhn6uEGwe5N"
      },
      "execution_count": null,
      "outputs": []
    },
    {
      "cell_type": "code",
      "source": [
        "# Exercise 3 - Solution\n",
        "\n",
        "# Create another random tensor\n",
        "tensor2 = torch.rand(1, 7)\n",
        "\n",
        "# Transpose the second tensor to make its shape (7, 1)\n",
        "tensor2_transposed = tensor2.T\n",
        "\n",
        "# Perform matrix multiplication\n",
        "torch.matmul(tensor1, tensor2_transposed)"
      ],
      "metadata": {
        "colab": {
          "base_uri": "https://localhost:8080/"
        },
        "id": "3EM2RETzxLDz",
        "outputId": "6524cff3-d0c3-47eb-d67f-fb0b5c7f0e7f"
      },
      "execution_count": null,
      "outputs": [
        {
          "output_type": "execute_result",
          "data": {
            "text/plain": [
              "tensor([[1.6914],\n",
              "        [1.7581],\n",
              "        [2.0906],\n",
              "        [1.8975],\n",
              "        [1.7585],\n",
              "        [1.7961],\n",
              "        [1.8900]])"
            ]
          },
          "metadata": {},
          "execution_count": 21
        }
      ]
    },
    {
      "cell_type": "code",
      "source": [
        "# Exercise 4 - Solution\n",
        "\n",
        "# Set manual seed\n",
        "torch.manual_seed(0)\n",
        "\n",
        "\n",
        "# Create two random tensors\n",
        "tensor1 = torch.rand(7, 7)\n",
        "tensor2 = torch.rand(1, 7)\n",
        "\n",
        "# Transpose the second tensor to make its shape (7, 1)\n",
        "tensor2_transposed = tensor2.T\n",
        "\n",
        "# Matrix multiply tensors\n",
        "result = torch.matmul(tensor1, tensor2_transposed)\n",
        "print(result, result.shape)\n"
      ],
      "metadata": {
        "colab": {
          "base_uri": "https://localhost:8080/"
        },
        "id": "5K3sTMR3zAny",
        "outputId": "08238316-c5f3-4b5b-d4e6-04b7dcfdd6bb"
      },
      "execution_count": null,
      "outputs": [
        {
          "output_type": "stream",
          "name": "stdout",
          "text": [
            "tensor([[1.8542],\n",
            "        [1.9611],\n",
            "        [2.2884],\n",
            "        [3.0481],\n",
            "        [1.7067],\n",
            "        [2.5290],\n",
            "        [1.7989]]) torch.Size([7, 1])\n"
          ]
        }
      ]
    },
    {
      "cell_type": "code",
      "source": [
        "# Exercise 5 - Solution\n",
        "\n",
        "# Check if a GPU is available\n",
        "if torch.cuda.is_available():\n",
        "    # Set the GPU random seed\n",
        "    torch.cuda.manual_seed(1234)"
      ],
      "metadata": {
        "id": "f9gSsyZuz8CD"
      },
      "execution_count": null,
      "outputs": []
    },
    {
      "cell_type": "code",
      "source": [
        "# Exercise 6 - Solution\n",
        "\n",
        "# Set random seed\n",
        "torch.manual_seed(1234)\n",
        "\n",
        "# Check for access to GPU\n",
        "device = \"cuda\" if torch.cuda.is_available() else \"cpu\"\n",
        "\n",
        "# Create two random tensors on GPU\n",
        "tensor1 = torch.rand(2, 3, device=device)\n",
        "tensor2 = torch.rand(2, 3, device=device)"
      ],
      "metadata": {
        "id": "44sLSC011_nL"
      },
      "execution_count": null,
      "outputs": []
    },
    {
      "cell_type": "code",
      "source": [
        "# Exercise 7 - Solution\n",
        "\n",
        "# Transpose tensor2 to make its shape (3, 2)\n",
        "tensor2_transposed = tensor2.T\n",
        "\n",
        "# Perform matrix multiplication\n",
        "result = torch.matmul(tensor1, tensor2_transposed)\n",
        "\n",
        "# Output the result and its shape\n",
        "print(result, result.shape)\n"
      ],
      "metadata": {
        "colab": {
          "base_uri": "https://localhost:8080/"
        },
        "id": "XWwq0HC13TuE",
        "outputId": "2b39d96a-d6ed-4caf-b343-b60c24eca22b"
      },
      "execution_count": null,
      "outputs": [
        {
          "output_type": "stream",
          "name": "stdout",
          "text": [
            "tensor([[0.3647, 0.4709],\n",
            "        [0.5184, 0.5617]]) torch.Size([2, 2])\n"
          ]
        }
      ]
    },
    {
      "cell_type": "code",
      "source": [
        "# Exercise 8 - Solution\n",
        "\n",
        "# Find max\n",
        "max_value = torch.max(result)\n",
        "\n",
        "# Find min\n",
        "min_value = torch.min(result)"
      ],
      "metadata": {
        "id": "uyKxDQMt5HRC"
      },
      "execution_count": null,
      "outputs": []
    },
    {
      "cell_type": "code",
      "source": [
        "# Exercise 9 - Solution\n",
        "\n",
        "# Find arg max\n",
        "max_index = torch.argmax(result)\n",
        "\n",
        "# Find arg min\n",
        "min_index = torch.argmin(result)"
      ],
      "metadata": {
        "id": "2qCG3ndf6EQB"
      },
      "execution_count": null,
      "outputs": []
    },
    {
      "cell_type": "code",
      "source": [
        "# Exercise 10 - Solution\n",
        "\n",
        "# Set seed\n",
        "torch.manual_seed(7)\n",
        "\n",
        "# Create random tensor\n",
        "tensor1 = torch.rand(1, 1, 1, 10)\n",
        "\n",
        "# Remove single dimensions\n",
        "tensor2 = tensor1.squeeze()\n",
        "\n",
        "# Print out tensors and their shapes\n",
        "print(tensor1)\n",
        "print(tensor1.shape)\n",
        "print(tensor2)\n",
        "print(tensor2.shape)"
      ],
      "metadata": {
        "colab": {
          "base_uri": "https://localhost:8080/"
        },
        "id": "jDSZjMDK6uJe",
        "outputId": "01ee6e62-e937-4d2a-db1a-95110783aed0"
      },
      "execution_count": null,
      "outputs": [
        {
          "output_type": "stream",
          "name": "stdout",
          "text": [
            "tensor([[[[0.5349, 0.1988, 0.6592, 0.6569, 0.2328, 0.4251, 0.2071, 0.6297,\n",
            "           0.3653, 0.8513]]]])\n",
            "torch.Size([1, 1, 1, 10])\n",
            "tensor([0.5349, 0.1988, 0.6592, 0.6569, 0.2328, 0.4251, 0.2071, 0.6297, 0.3653,\n",
            "        0.8513])\n",
            "torch.Size([10])\n"
          ]
        }
      ]
    },
    {
      "cell_type": "code",
      "source": [],
      "metadata": {
        "id": "1sXd2ME07SqN"
      },
      "execution_count": null,
      "outputs": []
    }
  ]
}